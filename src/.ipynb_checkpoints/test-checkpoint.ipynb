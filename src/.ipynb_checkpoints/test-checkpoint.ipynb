{
 "cells": [
  {
   "cell_type": "code",
   "execution_count": 1,
   "metadata": {
    "collapsed": false
   },
   "outputs": [],
   "source": [
    "import __main__\n",
    "__main__.pymol_argv = ['pymol','-qc'] # Pymol: quiet and no GUI\n",
    "from time import sleep\n",
    "import pymol\n",
    "from pymol import cmd\n",
    "\n",
    "pymol.finish_launching()"
   ]
  },
  {
   "cell_type": "code",
   "execution_count": 4,
   "metadata": {
    "collapsed": true
   },
   "outputs": [],
   "source": [
    "cmd.reinitialize()\n",
    "\n",
    "cmd.load('/home/mikhail/Projects/cnn/sandbox/aligned_pdb/1s9w_cut.pdb', '1s9w_cut')\n",
    "\n",
    "cmd.wizard(\"mutagenesis\")\n",
    "cmd.fetch('1s9w_cut')\n",
    "cmd.refresh_wizard()\n",
    "cmd.get_wizard().do_select('A/2/')\n",
    "cmd.get_wizard().set_mode('TRP')\n",
    "cmd.get_wizard().apply()\n",
    "cmd.set_wizard()\n",
    "cmd.save('~/test.pdb', '1s9w_cut')\n",
    "\n",
    "sleep(0.5)"
   ]
  },
  {
   "cell_type": "code",
   "execution_count": null,
   "metadata": {
    "collapsed": true
   },
   "outputs": [],
   "source": []
  },
  {
   "cell_type": "code",
   "execution_count": null,
   "metadata": {
    "collapsed": true
   },
   "outputs": [],
   "source": []
  },
  {
   "cell_type": "code",
   "execution_count": null,
   "metadata": {
    "collapsed": true
   },
   "outputs": [],
   "source": [
    "cmd.quit()"
   ]
  },
  {
   "cell_type": "code",
   "execution_count": null,
   "metadata": {
    "collapsed": true
   },
   "outputs": [],
   "source": []
  }
 ],
 "metadata": {
  "anaconda-cloud": {},
  "kernelspec": {
   "display_name": "Python [conda env:python2]",
   "language": "python",
   "name": "conda-env-python2-py"
  },
  "language_info": {
   "codemirror_mode": {
    "name": "ipython",
    "version": 2
   },
   "file_extension": ".py",
   "mimetype": "text/x-python",
   "name": "python",
   "nbconvert_exporter": "python",
   "pygments_lexer": "ipython2",
   "version": "2.7.12"
  }
 },
 "nbformat": 4,
 "nbformat_minor": 1
}
