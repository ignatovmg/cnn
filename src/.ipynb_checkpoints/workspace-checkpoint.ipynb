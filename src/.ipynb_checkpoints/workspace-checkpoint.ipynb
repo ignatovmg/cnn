{
 "cells": [
  {
   "cell_type": "code",
   "execution_count": 150,
   "metadata": {
    "collapsed": false
   },
   "outputs": [],
   "source": [
    "import Bio.PDB\n",
    "import Bio.pairwise2\n",
    "import re\n",
    "import glob"
   ]
  },
  {
   "cell_type": "code",
   "execution_count": 160,
   "metadata": {
    "collapsed": false,
    "scrolled": false
   },
   "outputs": [],
   "source": [
    "#dbfiles = str(subprocess.check_output([\"find\", \"../data/mhc_alleles\" ,\"-type\", \"f\", \"-name\", \"*prot.fasta\"]))\n",
    "\n",
    "dbfiles = glob.glob(\"../data/mhc_alleles/hla/*prot.fasta\") + glob.glob(\"../data/mhc_alleles/mhc/*/*prot.fasta\")\n",
    "mhc_db_path = '../sandbox/db.fasta'\n",
    "db = open(mhc_db_path, 'w')\n",
    "for dbfile in dbfiles:\n",
    "    f = open(dbfile, 'r')\n",
    "    text = f.read()\n",
    "    f.close()\n",
    "    db.write(';'.join(text.split(' ')))\n",
    "\n",
    "db.close()"
   ]
  },
  {
   "cell_type": "code",
   "execution_count": 12,
   "metadata": {
    "collapsed": false
   },
   "outputs": [
    {
     "name": "stderr",
     "output_type": "stream",
     "text": [
      "/home/mikhail/Development/Libs/anaconda3/lib/python3.5/site-packages/Bio/PDB/StructureBuilder.py:85: PDBConstructionWarning: WARNING: Chain B is discontinuous at line 6483.\n",
      "  PDBConstructionWarning)\n",
      "/home/mikhail/Development/Libs/anaconda3/lib/python3.5/site-packages/Bio/PDB/StructureBuilder.py:85: PDBConstructionWarning: WARNING: Chain A is discontinuous at line 6489.\n",
      "  PDBConstructionWarning)\n",
      "/home/mikhail/Development/Libs/anaconda3/lib/python3.5/site-packages/Bio/PDB/StructureBuilder.py:85: PDBConstructionWarning: WARNING: Chain B is discontinuous at line 6502.\n",
      "  PDBConstructionWarning)\n",
      "/home/mikhail/Development/Libs/anaconda3/lib/python3.5/site-packages/Bio/PDB/StructureBuilder.py:85: PDBConstructionWarning: WARNING: Chain C is discontinuous at line 6515.\n",
      "  PDBConstructionWarning)\n",
      "/home/mikhail/Development/Libs/anaconda3/lib/python3.5/site-packages/Bio/PDB/StructureBuilder.py:85: PDBConstructionWarning: WARNING: Chain D is discontinuous at line 6516.\n",
      "  PDBConstructionWarning)\n",
      "/home/mikhail/Development/Libs/anaconda3/lib/python3.5/site-packages/Bio/PDB/StructureBuilder.py:85: PDBConstructionWarning: WARNING: Chain E is discontinuous at line 6518.\n",
      "  PDBConstructionWarning)\n"
     ]
    }
   ],
   "source": [
    "parser = Bio.PDB.PDBParser()\n",
    "structure = parser.get_structure(id='1a1m', file='/home/mikhail/Projects/cnn/data/structures/1ao7.pdb')"
   ]
  },
  {
   "cell_type": "code",
   "execution_count": 13,
   "metadata": {
    "collapsed": false,
    "scrolled": true
   },
   "outputs": [
    {
     "data": {
      "text/plain": [
       "['GSHSMRYFFTSVSRPGRGEPRFIAVGYVDDTQFVRFDSDAASQRMEPRAPWIEQEGPEYWDGETRKVKAHSQTHRVDLGTLRGYYNQSEAGSHTVQRMYGCDVGSDWRFLRGYHQYAYDGKDYIALKEDLRSWTAADMAAQTTKHKWEAAHVAEQLRAYLEGTCVEWLRRYLENGKETLQRTDAPKTHMTHHAVSDHEATLRCWALSFYPAEITLTWQRDGEDQTQDTELVETRPAGDGTFQKWAAVVVPSGQEQRYTCHVQHEGLPKPLTLRW',\n",
       " 'MIQRTPKIQVYSRHPAENGKSNFLNCYVSGFHPSDIEVDLLKNGERIEKVEHSDLSFSKDWSFYLLYCTEFTPTEKDEYACRVNHVTLSQPCIVKWDRDM',\n",
       " 'LLFGYPVYV',\n",
       " 'KEVEQNSGPLSVPEGAIASLNCTYSDRGSQSFFWYRQYSGKSPELIMSIYSNGDKEDGRFTAQLNKASQYVSLLIRDSQPSDSATYLCAVTTDSWGKLQFGAGTQVVVTPDIQNP',\n",
       " 'GVTQTPKFQVLKTGQSMTLQCAQDMNHEYMSWYRQDPGMGLRLIHYSVGAGITDQGEVPNGYNVSRSTTEDFPLRLLSAAPSQTSVYFCASRPGLAGGRPEQYFGPGTRLTVTEDLKNVFPPEVAVF',\n",
       " 'LVCLATGFYPDHVELSWWVNGKEVHSGVSTDPQPL',\n",
       " 'YALSSRLRVSATFWQNPRNHFRCQVQFYGL',\n",
       " 'AKPVTQIVSAEAWGRAD']"
      ]
     },
     "execution_count": 13,
     "metadata": {},
     "output_type": "execute_result"
    }
   ],
   "source": [
    "ppb = Bio.PDB.CaPPBuilder()\n",
    "seqs = [str(x.get_sequence()) for x in ppb.build_peptides(structure)]"
   ]
  },
  {
   "cell_type": "code",
   "execution_count": 77,
   "metadata": {
    "collapsed": false
   },
   "outputs": [],
   "source": [
    "query = \"blastp -query ../data/mhc_alleles/sample_query.fasta -subject ../data/mhc_alleles/hla_prot.fasta -out ../data/mhc_alleles/output -outfmt 6 -num_alignments 1\""
   ]
  },
  {
   "cell_type": "code",
   "execution_count": null,
   "metadata": {
    "collapsed": false
   },
   "outputs": [],
   "source": []
  },
  {
   "cell_type": "code",
   "execution_count": 78,
   "metadata": {
    "collapsed": false
   },
   "outputs": [
    {
     "data": {
      "text/plain": [
       "0"
      ]
     },
     "execution_count": 78,
     "metadata": {},
     "output_type": "execute_result"
    }
   ],
   "source": [
    "subprocess.call(query.split(' '))"
   ]
  },
  {
   "cell_type": "code",
   "execution_count": 36,
   "metadata": {
    "collapsed": false
   },
   "outputs": [
    {
     "data": {
      "text/plain": [
       "b'workspace.ipynb\\n'"
      ]
     },
     "execution_count": 36,
     "metadata": {},
     "output_type": "execute_result"
    }
   ],
   "source": [
    "subprocess.check_output([\"ls\"])"
   ]
  },
  {
   "cell_type": "code",
   "execution_count": null,
   "metadata": {
    "collapsed": true
   },
   "outputs": [],
   "source": []
  }
 ],
 "metadata": {
  "anaconda-cloud": {},
  "kernelspec": {
   "display_name": "Python [conda root]",
   "language": "python",
   "name": "conda-root-py"
  },
  "language_info": {
   "codemirror_mode": {
    "name": "ipython",
    "version": 3
   },
   "file_extension": ".py",
   "mimetype": "text/x-python",
   "name": "python",
   "nbconvert_exporter": "python",
   "pygments_lexer": "ipython3",
   "version": "3.5.2"
  }
 },
 "nbformat": 4,
 "nbformat_minor": 1
}
