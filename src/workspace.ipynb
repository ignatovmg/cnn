{
 "cells": [
  {
   "cell_type": "code",
   "execution_count": 220,
   "metadata": {
    "collapsed": false
   },
   "outputs": [],
   "source": [
    "import Bio.PDB\n",
    "import Bio.pairwise2\n",
    "import re\n",
    "import glob\n",
    "import pandas as pd"
   ]
  },
  {
   "cell_type": "code",
   "execution_count": 221,
   "metadata": {
    "collapsed": false,
    "scrolled": false
   },
   "outputs": [],
   "source": [
    "#dbfiles = str(subprocess.check_output([\"find\", \"../data/mhc_alleles\" ,\"-type\", \"f\", \"-name\", \"*prot.fasta\"]))\n",
    "\n",
    "dbfiles = glob.glob(\"../data/mhc_alleles/hla/*prot.fasta\") + glob.glob(\"../data/mhc_alleles/mhc/*/*prot.fasta\")\n",
    "mhc_db_path = '../sandbox/db.fasta'\n",
    "epitope_db_path = '../data/epitopes/epitope_table.csv'\n",
    "blast_output_path = '../sandbox/blast_output'\n",
    "db = open(mhc_db_path, 'w')\n",
    "for dbfile in dbfiles:\n",
    "    f = open(dbfile, 'r')\n",
    "    text = f.read()\n",
    "    f.close()\n",
    "    db.write(';'.join(text.split(' ')))\n",
    "\n",
    "db.close()"
   ]
  },
  {
   "cell_type": "code",
   "execution_count": 218,
   "metadata": {
    "collapsed": false,
    "scrolled": true
   },
   "outputs": [
    {
     "data": {
      "text/plain": [
       "'parser = Bio.PDB.PDBParser()\\nppb = Bio.PDB.CaPPBuilder()\\n\\nquery_path = \"../sandbox/query.fasta\"\\nquery_file = open(query_path, \\'w\\')\\n\\npdbfiles = glob.glob(\"../data/structures/*.pdb\")\\nfor pdb in pdbfiles:\\n    structure = parser.get_structure(id=pdb[-8:-4], file=pdb)\\n    for chain in structure[0]:\\n        #print(structure.id)\\n        try:\\n            query_file.write(\\'>%s;%s\\n%s\\n\\' % (structure.id, chain.id, \\'\\'.join([str(s.get_sequence()) for s in ppb.build_peptides(chain)])))\\n        except Exception:\\n            continue\\n        \\nquery_file.close()'"
      ]
     },
     "execution_count": 218,
     "metadata": {},
     "output_type": "execute_result"
    }
   ],
   "source": [
    "parser = Bio.PDB.PDBParser()\n",
    "ppb = Bio.PDB.CaPPBuilder()\n",
    "\n",
    "query_path = \"../sandbox/query.fasta\"\n",
    "query_file = open(query_path, 'w')\n",
    "\n",
    "pdbfiles = glob.glob(\"../data/structures/*.pdb\")\n",
    "for pdb in pdbfiles:\n",
    "    structure = parser.get_structure(id=pdb[-8:-4], file=pdb)\n",
    "    for chain in structure[0]:\n",
    "        #print(structure.id)\n",
    "        try:\n",
    "            query_file.write('>%s;%s\\n%s\\n' % (structure.id, chain.id, ''.join([str(s.get_sequence()) for s in ppb.build_peptides(chain)])))\n",
    "        except Exception:\n",
    "            continue\n",
    "        \n",
    "query_file.close()"
   ]
  },
  {
   "cell_type": "code",
   "execution_count": 219,
   "metadata": {
    "collapsed": false
   },
   "outputs": [
    {
     "data": {
      "text/plain": [
       "0"
      ]
     },
     "execution_count": 219,
     "metadata": {},
     "output_type": "execute_result"
    }
   ],
   "source": [
    "subprocess.call([\"blastp\", \"-query\", query_path, \n",
    "                 \"-subject\", mhc_db_path, \"-out\", \n",
    "                 blast_output_path, \"-outfmt\", str(6), \"-num_alignments\", str(1)])"
   ]
  },
  {
   "cell_type": "code",
   "execution_count": null,
   "metadata": {
    "collapsed": true
   },
   "outputs": [],
   "source": []
  },
  {
   "cell_type": "code",
   "execution_count": null,
   "metadata": {
    "collapsed": true
   },
   "outputs": [],
   "source": []
  },
  {
   "cell_type": "code",
   "execution_count": 227,
   "metadata": {
    "collapsed": false
   },
   "outputs": [],
   "source": [
    "epitope_db = pd.read_csv(epitope_db_path, header=None, skiprows=1, low_memory=False)"
   ]
  },
  {
   "cell_type": "code",
   "execution_count": 232,
   "metadata": {
    "collapsed": false
   },
   "outputs": [
    {
     "data": {
      "text/html": [
       "<div>\n",
       "<table border=\"1\" class=\"dataframe\">\n",
       "  <thead>\n",
       "    <tr style=\"text-align: right;\">\n",
       "      <th></th>\n",
       "      <th>0</th>\n",
       "      <th>1</th>\n",
       "      <th>2</th>\n",
       "      <th>3</th>\n",
       "      <th>4</th>\n",
       "      <th>5</th>\n",
       "      <th>6</th>\n",
       "      <th>7</th>\n",
       "      <th>8</th>\n",
       "      <th>9</th>\n",
       "      <th>10</th>\n",
       "      <th>11</th>\n",
       "    </tr>\n",
       "  </thead>\n",
       "  <tbody>\n",
       "    <tr>\n",
       "      <th>4</th>\n",
       "      <td>5</td>\n",
       "      <td>Linear peptide</td>\n",
       "      <td>AAAAAAAAAFAAK</td>\n",
       "      <td>NaN</td>\n",
       "      <td>NaN</td>\n",
       "      <td>NaN</td>\n",
       "      <td>NaN</td>\n",
       "      <td>NaN</td>\n",
       "      <td>NaN</td>\n",
       "      <td>NaN</td>\n",
       "      <td>NaN</td>\n",
       "      <td>NaN</td>\n",
       "    </tr>\n",
       "  </tbody>\n",
       "</table>\n",
       "</div>"
      ],
      "text/plain": [
       "  0               1              2    3    4    5    6    7    8    9    10  \\\n",
       "4  5  Linear peptide  AAAAAAAAAFAAK  NaN  NaN  NaN  NaN  NaN  NaN  NaN  NaN   \n",
       "\n",
       "    11  \n",
       "4  NaN  "
      ]
     },
     "execution_count": 232,
     "metadata": {},
     "output_type": "execute_result"
    }
   ],
   "source": [
    "epitope_db[epitope_db[2].str.contains('AAAAAAAAAFAAK', regex=True)]"
   ]
  },
  {
   "cell_type": "code",
   "execution_count": null,
   "metadata": {
    "collapsed": true
   },
   "outputs": [],
   "source": []
  }
 ],
 "metadata": {
  "anaconda-cloud": {},
  "kernelspec": {
   "display_name": "Python [conda root]",
   "language": "python",
   "name": "conda-root-py"
  },
  "language_info": {
   "codemirror_mode": {
    "name": "ipython",
    "version": 3
   },
   "file_extension": ".py",
   "mimetype": "text/x-python",
   "name": "python",
   "nbconvert_exporter": "python",
   "pygments_lexer": "ipython3",
   "version": "3.5.2"
  }
 },
 "nbformat": 4,
 "nbformat_minor": 1
}
