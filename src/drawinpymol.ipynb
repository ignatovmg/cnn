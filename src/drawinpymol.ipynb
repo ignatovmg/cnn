{
 "cells": [
  {
   "cell_type": "code",
   "execution_count": null,
   "metadata": {
    "collapsed": false
   },
   "outputs": [],
   "source": [
    "import numpy as np\n",
    "import pandas as pd\n",
    "import re\n",
    "import glob\n",
    "import Bio.PDB\n",
    "\n",
    "\n",
    "import __main__\n",
    "__main__.pymol_argv = [\"pymol\"]"
   ]
  },
  {
   "cell_type": "code",
   "execution_count": null,
   "metadata": {
    "collapsed": true
   },
   "outputs": [],
   "source": [
    "import pymol\n",
    "pymol.finish_launching()\n",
    "\n",
    "from pymol import cmd"
   ]
  },
  {
   "cell_type": "code",
   "execution_count": null,
   "metadata": {
    "collapsed": false
   },
   "outputs": [],
   "source": [
    "# open in pymol\n",
    "\n",
    "dirname = \"3ffc\"\n",
    "path = \"/home/mikhail/Projects/cnn/sandbox/mutated/\" + dirname\n",
    "#path = \"/media/mikhail/HDD/modelled_hla_1_class/\" + dirname\n",
    "pdbfiles = glob.glob(path + \"/mutated?_nmin.pdb\") + glob.glob(path + \"/mutated?_min.pdb\") + glob.glob(path + \"/ref*.pdb\")\n",
    "\n",
    "cmd.reinitialize()\n",
    "parser = Bio.PDB.PDBParser(QUIET=True)\n",
    "names = []\n",
    "pepids = []\n",
    "for pdb in pdbfiles:\n",
    "    struct = parser.get_structure(\"obj\", pdb)\n",
    "    chains = list(struct.get_chains())\n",
    "    lens = [len(list(ch.get_residues())) for ch in chains]\n",
    "    pepids.append(chains[np.argmin(lens)].get_id())\n",
    "    \n",
    "    name = os.path.basename(pdb)[:-4]\n",
    "    print(name)\n",
    "    names.append(name)\n",
    "    cmd.load(pdb, name)\n",
    "\n",
    "cmd.select(\"peptides\", \" \".join([\"%s//%s//\" % (name, pepid) for name, pepid in zip(names, pepids)]))\n",
    "cmd.show_as(\"lines\", \"all\")\n",
    "cmd.show_as(\"sticks\", \"peptides\")\n",
    "cmd.remove(\"hydrogens\")\n",
    "cmd.center(\"peptides\")"
   ]
  },
  {
   "cell_type": "code",
   "execution_count": null,
   "metadata": {
    "collapsed": true
   },
   "outputs": [],
   "source": []
  }
 ],
 "metadata": {
  "anaconda-cloud": {},
  "kernelspec": {
   "display_name": "Python [conda env:python2]",
   "language": "python",
   "name": "conda-env-python2-py"
  },
  "language_info": {
   "codemirror_mode": {
    "name": "ipython",
    "version": 2
   },
   "file_extension": ".py",
   "mimetype": "text/x-python",
   "name": "python",
   "nbconvert_exporter": "python",
   "pygments_lexer": "ipython2",
   "version": "2.7.12"
  }
 },
 "nbformat": 4,
 "nbformat_minor": 1
}
